{
 "cells": [
  {
   "cell_type": "markdown",
   "metadata": {
    "collapsed": true
   },
   "source": [
    "# Image Classification\n",
    "In this project, you'll classify images from the [CIFAR-10 dataset](https://www.cs.toronto.edu/~kriz/cifar.html).  The dataset consists of airplanes, dogs, cats, and other objects. You'll preprocess the images, then train a convolutional neural network on all the samples. The images need to be normalized and the labels need to be one-hot encoded.  You'll get to apply what you learned and build a convolutional, max pooling, dropout, and fully connected layers.  At the end, you'll get to see your neural network's predictions on the sample images.\n",
    "## Get the Data\n",
    "Run the following cell to download the [CIFAR-10 dataset for python](https://www.cs.toronto.edu/~kriz/cifar-10-python.tar.gz)."
   ]
  },
  {
   "cell_type": "code",
   "execution_count": 1,
   "metadata": {},
   "outputs": [
    {
     "name": "stderr",
     "output_type": "stream",
     "text": [
      "CIFAR-10 Dataset: 171MB [00:25, 6.60MB/s]                              \n"
     ]
    },
    {
     "name": "stdout",
     "output_type": "stream",
     "text": [
      "All files found!\n"
     ]
    }
   ],
   "source": [
    "\"\"\"\n",
    "DON'T MODIFY ANYTHING IN THIS CELL THAT IS BELOW THIS LINE\n",
    "\"\"\"\n",
    "from urllib.request import urlretrieve\n",
    "from os.path import isfile, isdir\n",
    "from tqdm import tqdm\n",
    "import problem_unittests as tests\n",
    "import tarfile\n",
    "\n",
    "cifar10_dataset_folder_path = 'cifar-10-batches-py'\n",
    "\n",
    "# Use Floyd's cifar-10 dataset if present\n",
    "floyd_cifar10_location = '/cifar/cifar-10-python.tar.gz'\n",
    "if isfile(floyd_cifar10_location):\n",
    "    tar_gz_path = floyd_cifar10_location\n",
    "else:\n",
    "    tar_gz_path = 'cifar-10-python.tar.gz'\n",
    "\n",
    "class DLProgress(tqdm):\n",
    "    last_block = 0\n",
    "\n",
    "    def hook(self, block_num=1, block_size=1, total_size=None):\n",
    "        self.total = total_size\n",
    "        self.update((block_num - self.last_block) * block_size)\n",
    "        self.last_block = block_num\n",
    "\n",
    "if not isfile(tar_gz_path):\n",
    "    with DLProgress(unit='B', unit_scale=True, miniters=1, desc='CIFAR-10 Dataset') as pbar:\n",
    "        urlretrieve(\n",
    "            'https://www.cs.toronto.edu/~kriz/cifar-10-python.tar.gz',\n",
    "            tar_gz_path,\n",
    "            pbar.hook)\n",
    "\n",
    "if not isdir(cifar10_dataset_folder_path):\n",
    "    with tarfile.open(tar_gz_path) as tar:\n",
    "        tar.extractall()\n",
    "        tar.close()\n",
    "\n",
    "\n",
    "tests.test_folder_path(cifar10_dataset_folder_path)"
   ]
  },
  {
   "cell_type": "markdown",
   "metadata": {},
   "source": [
    "## Explore the Data\n",
    "The dataset is broken into batches to prevent your machine from running out of memory.  The CIFAR-10 dataset consists of 5 batches, named `data_batch_1`, `data_batch_2`, etc.. Each batch contains the labels and images that are one of the following:\n",
    "* airplane\n",
    "* automobile\n",
    "* bird\n",
    "* cat\n",
    "* deer\n",
    "* dog\n",
    "* frog\n",
    "* horse\n",
    "* ship\n",
    "* truck\n",
    "\n",
    "Understanding a dataset is part of making predictions on the data.  Play around with the code cell below by changing the `batch_id` and `sample_id`. The `batch_id` is the id for a batch (1-5). The `sample_id` is the id for a image and label pair in the batch.\n",
    "\n",
    "Ask yourself \"What are all possible labels?\", \"What is the range of values for the image data?\", \"Are the labels in order or random?\".  Answers to questions like these will help you preprocess the data and end up with better predictions."
   ]
  },
  {
   "cell_type": "code",
   "execution_count": 10,
   "metadata": {},
   "outputs": [
    {
     "name": "stdout",
     "output_type": "stream",
     "text": [
      "\n",
      "Stats of batch 1:\n",
      "Samples: 10000\n",
      "Label Counts: {0: 1005, 1: 974, 2: 1032, 3: 1016, 4: 999, 5: 937, 6: 1030, 7: 1001, 8: 1025, 9: 981}\n",
      "First 20 Labels: [6, 9, 9, 4, 1, 1, 2, 7, 8, 3, 4, 7, 7, 2, 9, 9, 9, 3, 2, 6]\n",
      "\n",
      "Example of Image 0:\n",
      "Image - Min Value: 0 Max Value: 255\n",
      "Image - Shape: (32, 32, 3)\n",
      "Label - Label Id: 6 Name: frog\n"
     ]
    },
    {
     "data": {
      "image/png": "[encoded data removed]",
      "text/plain": [
       "<matplotlib.figure.Figure at 0x129986c18>"
      ]
     },
     "metadata": {
      "image/png": {
       "height": 250,
       "width": 253
      }
     },
     "output_type": "display_data"
    }
   ],
   "source": [
    "%matplotlib inline\n",
    "%config InlineBackend.figure_format = 'retina'\n",
    "\n",
    "import helper\n",
    "import numpy as np\n",
    "\n",
    "# Explore the dataset\n",
    "batch_id = 1\n",
    "sample_id = 0\n",
    "helper.display_stats(cifar10_dataset_folder_path, batch_id, sample_id)"
   ]
  },
  {
   "cell_type": "markdown",
   "metadata": {},
   "source": [
    "## Implement Preprocess Functions\n",
    "### Normalize\n",
    "In the cell below, implement the `normalize` function to take in image data, `x`, and return it as a normalized Numpy array. The values should be in the range of 0 to 1, inclusive.  The return object should be the same shape as `x`."
   ]
  },
  {
   "cell_type": "code",
   "execution_count": 11,
   "metadata": {},
   "outputs": [
    {
     "name": "stdout",
     "output_type": "stream",
     "text": [
      "Tests Passed\n"
     ]
    }
   ],
   "source": [
    "def normalize(x):\n",
    "    \"\"\"\n",
    "    Normalize a list of sample image data in the range of 0 to 1\n",
    "    : x: List of image data.  The image shape is (32, 32, 3)\n",
    "    : return: Numpy array of normalize data\n",
    "    \"\"\"\n",
    "    min = np.min(x)\n",
    "    max = np.max(x)\n",
    "    return (x - min)/(max - min)\n",
    "\n",
    "\n",
    "\"\"\"\n",
    "DON'T MODIFY ANYTHING IN THIS CELL THAT IS BELOW THIS LINE\n",
    "\"\"\"\n",
    "tests.test_normalize(normalize)"
   ]
  },
  {
   "cell_type": "markdown",
   "metadata": {},
   "source": [
    "### One-hot encode\n",
    "Just like the previous code cell, you'll be implementing a function for preprocessing.  This time, you'll implement the `one_hot_encode` function. The input, `x`, are a list of labels.  Implement the function to return the list of labels as One-Hot encoded Numpy array.  The possible values for labels are 0 to 9. The one-hot encoding function should return the same encoding for each value between each call to `one_hot_encode`.  Make sure to save the map of encodings outside the function.\n",
    "\n",
    "Hint: Don't reinvent the wheel."
   ]
  },
  {
   "cell_type": "code",
   "execution_count": 12,
   "metadata": {},
   "outputs": [
    {
     "name": "stdout",
     "output_type": "stream",
     "text": [
      "Tests Passed\n"
     ]
    }
   ],
   "source": [
    "def one_hot_encode(x):\n",
    "    \"\"\"\n",
    "    One hot encode a list of sample labels. Return a one-hot encoded vector for each label.\n",
    "    : x: List of sample Labels\n",
    "    : return: Numpy array of one-hot encoded labels\n",
    "    \"\"\"\n",
    "    return np.eye(10)[x]\n",
    "\n",
    "\n",
    "\"\"\"\n",
    "DON'T MODIFY ANYTHING IN THIS CELL THAT IS BELOW THIS LINE\n",
    "\"\"\"\n",
    "tests.test_one_hot_encode(one_hot_encode)"
   ]
  },
  {
   "cell_type": "markdown",
   "metadata": {},
   "source": [
    "### Randomize Data\n",
    "As you saw from exploring the data above, the order of the samples are randomized.  It doesn't hurt to randomize it again, but you don't need to for this dataset."
   ]
  },
  {
   "cell_type": "markdown",
   "metadata": {},
   "source": [
    "## Preprocess all the data and save it\n",
    "Running the code cell below will preprocess all the CIFAR-10 data and save it to file. The code below also uses 10% of the training data for validation."
   ]
  },
  {
   "cell_type": "code",
   "execution_count": 13,
   "metadata": {
    "collapsed": true
   },
   "outputs": [],
   "source": [
    "\"\"\"\n",
    "DON'T MODIFY ANYTHING IN THIS CELL\n",
    "\"\"\"\n",
    "# Preprocess Training, Validation, and Testing Data\n",
    "helper.preprocess_and_save_data(cifar10_dataset_folder_path, normalize, one_hot_encode)"
   ]
  },
  {
   "cell_type": "markdown",
   "metadata": {},
   "source": [
    "# Check Point\n",
    "This is your first checkpoint.  If you ever decide to come back to this notebook or have to restart the notebook, you can start from here.  The preprocessed data has been saved to disk."
   ]
  },
  {
   "cell_type": "code",
   "execution_count": 14,
   "metadata": {
    "collapsed": true
   },
   "outputs": [],
   "source": [
    "\"\"\"\n",
    "DON'T MODIFY ANYTHING IN THIS CELL\n",
    "\"\"\"\n",
    "import pickle\n",
    "import problem_unittests as tests\n",
    "import helper\n",
    "\n",
    "# Load the Preprocessed Validation data\n",
    "valid_features, valid_labels = pickle.load(open('preprocess_validation.p', mode='rb'))"
   ]
  },
  {
   "cell_type": "markdown",
   "metadata": {},
   "source": [
    "## Build the network\n",
    "For the neural network, you'll build each layer into a function.  Most of the code you've seen has been outside of functions. To test your code more thoroughly, we require that you put each layer in a function.  This allows us to give you better feedback and test for simple mistakes using our unittests before you submit your project.\n",
    "\n",
    ">**Note:** If you're finding it hard to dedicate enough time for this course each week, we've provided a small shortcut to this part of the project. In the next couple of problems, you'll have the option to use classes from the [TensorFlow Layers](https://www.tensorflow.org/api_docs/python/tf/layers) or [TensorFlow Layers (contrib)](https://www.tensorflow.org/api_guides/python/contrib.layers) packages to build each layer, except the layers you build in the \"Convolutional and Max Pooling Layer\" section.  TF Layers is similar to Keras's and TFLearn's abstraction to layers, so it's easy to pickup.\n",
    "\n",
    ">However, if you would like to get the most out of this course, try to solve all the problems _without_ using anything from the TF Layers packages. You **can** still use classes from other packages that happen to have the same name as ones you find in TF Layers! For example, instead of using the TF Layers version of the `conv2d` class, [tf.layers.conv2d](https://www.tensorflow.org/api_docs/python/tf/layers/conv2d), you would want to use the TF Neural Network version of `conv2d`, [tf.nn.conv2d](https://www.tensorflow.org/api_docs/python/tf/nn/conv2d). \n",
    "\n",
    "Let's begin!\n",
    "\n",
    "### Input\n",
    "The neural network needs to read the image data, one-hot encoded labels, and dropout keep probability. Implement the following functions\n",
    "* Implement `neural_net_image_input`\n",
    " * Return a [TF Placeholder](https://www.tensorflow.org/api_docs/python/tf/placeholder)\n",
    " * Set the shape using `image_shape` with batch size set to `None`.\n",
    " * Name the TensorFlow placeholder \"x\" using the TensorFlow `name` parameter in the [TF Placeholder](https://www.tensorflow.org/api_docs/python/tf/placeholder).\n",
    "* Implement `neural_net_label_input`\n",
    " * Return a [TF Placeholder](https://www.tensorflow.org/api_docs/python/tf/placeholder)\n",
    " * Set the shape using `n_classes` with batch size set to `None`.\n",
    " * Name the TensorFlow placeholder \"y\" using the TensorFlow `name` parameter in the [TF Placeholder](https://www.tensorflow.org/api_docs/python/tf/placeholder).\n",
    "* Implement `neural_net_keep_prob_input`\n",
    " * Return a [TF Placeholder](https://www.tensorflow.org/api_docs/python/tf/placeholder) for dropout keep probability.\n",
    " * Name the TensorFlow placeholder \"keep_prob\" using the TensorFlow `name` parameter in the [TF Placeholder](https://www.tensorflow.org/api_docs/python/tf/placeholder).\n",
    "\n",
    "These names will be used at the end of the project to load your saved model.\n",
    "\n",
    "Note: `None` for shapes in TensorFlow allow for a dynamic size."
   ]
  },
  {
   "cell_type": "code",
   "execution_count": 15,
   "metadata": {},
   "outputs": [
    {
     "name": "stdout",
     "output_type": "stream",
     "text": [
      "Image Input Tests Passed.\n",
      "Label Input Tests Passed.\n",
      "Keep Prob Tests Passed.\n"
     ]
    }
   ],
   "source": [
    "import tensorflow as tf\n",
    "\n",
    "def neural_net_image_input(image_shape):\n",
    "    \"\"\"\n",
    "    Return a Tensor for a batch of image input\n",
    "    : image_shape: Shape of the images\n",
    "    : return: Tensor for image input.\n",
    "    \"\"\"\n",
    "    return tf.placeholder(tf.float32, [None, image_shape[0], image_shape[1], image_shape[2]], name=\"x\")\n",
    "\n",
    "\n",
    "def neural_net_label_input(n_classes):\n",
    "    \"\"\"\n",
    "    Return a Tensor for a batch of label input\n",
    "    : n_classes: Number of classes\n",
    "    : return: Tensor for label input.\n",
    "    \"\"\"\n",
    "    return tf.placeholder(tf.float32, [None, n_classes], name=\"y\")\n",
    "\n",
    "\n",
    "def neural_net_keep_prob_input():\n",
    "    \"\"\"\n",
    "    Return a Tensor for keep probability\n",
    "    : return: Tensor for keep probability.\n",
    "    \"\"\"\n",
    "    return tf.placeholder(tf.float32, name=\"keep_prob\")\n",
    "\n",
    "\n",
    "\"\"\"\n",
    "DON'T MODIFY ANYTHING IN THIS CELL THAT IS BELOW THIS LINE\n",
    "\"\"\"\n",
    "tf.reset_default_graph()\n",
    "tests.test_nn_image_inputs(neural_net_image_input)\n",
    "tests.test_nn_label_inputs(neural_net_label_input)\n",
    "tests.test_nn_keep_prob_inputs(neural_net_keep_prob_input)"
   ]
  },
  {
   "cell_type": "markdown",
   "metadata": {},
   "source": [
    "### Convolution and Max Pooling Layer\n",
    "Convolution layers have a lot of success with images. For this code cell, you should implement the function `conv2d_maxpool` to apply convolution then max pooling:\n",
    "* Create the weight and bias using `conv_ksize`, `conv_num_outputs` and the shape of `x_tensor`.\n",
    "* Apply a convolution to `x_tensor` using weight and `conv_strides`.\n",
    " * We recommend you use same padding, but you're welcome to use any padding.\n",
    "* Add bias\n",
    "* Add a nonlinear activation to the convolution.\n",
    "* Apply Max Pooling using `pool_ksize` and `pool_strides`.\n",
    " * We recommend you use same padding, but you're welcome to use any padding.\n",
    "\n",
    "**Note:** You **can't** use [TensorFlow Layers](https://www.tensorflow.org/api_docs/python/tf/layers) or [TensorFlow Layers (contrib)](https://www.tensorflow.org/api_guides/python/contrib.layers) for **this** layer, but you can still use TensorFlow's [Neural Network](https://www.tensorflow.org/api_docs/python/tf/nn) package. You may still use the shortcut option for all the **other** layers."
   ]
  },
  {
   "cell_type": "code",
   "execution_count": 16,
   "metadata": {},
   "outputs": [
    {
     "name": "stdout",
     "output_type": "stream",
     "text": [
      "Tests Passed\n"
     ]
    }
   ],
   "source": [
    "def conv2d_maxpool(x_tensor, conv_num_outputs, conv_ksize, conv_strides, pool_ksize, pool_strides):\n",
    "    \"\"\"\n",
    "    Apply convolution then max pooling to x_tensor\n",
    "    :param x_tensor: TensorFlow Tensor\n",
    "    :param conv_num_outputs: Number of outputs for the convolutional layer\n",
    "    :param conv_ksize: kernal size 2-D Tuple for the convolutional layer\n",
    "    :param conv_strides: Stride 2-D Tuple for convolution\n",
    "    :param pool_ksize: kernal size 2-D Tuple for pool\n",
    "    :param pool_strides: Stride 2-D Tuple for pool\n",
    "    : return: A tensor that represents convolution and max pooling of x_tensor\n",
    "    \"\"\"\n",
    "    weights_shape = list(conv_ksize) + [x_tensor.get_shape().as_list()[3], conv_num_outputs]\n",
    "    \n",
    "    # Variables\n",
    "    weights = tf.Variable(tf.truncated_normal(weights_shape, stddev=5e-2))\n",
    "    bias = tf.Variable(tf.zeros(conv_num_outputs))\n",
    "    \n",
    "    # 2D Convolution\n",
    "    output = tf.nn.conv2d(x_tensor, weights, \n",
    "                          strides=[1, conv_strides[0], conv_strides[1], 1],\n",
    "                          padding='SAME')\n",
    "    output = tf.nn.bias_add(output, bias)\n",
    "    output = tf.nn.relu(output)\n",
    "    \n",
    "    # Pooling\n",
    "    output = tf.nn.max_pool(output, \n",
    "                            ksize=[1, pool_ksize[0], pool_ksize[1], 1], \n",
    "                            strides=[1, pool_strides[0], pool_strides[1], 1],\n",
    "                            padding='SAME')                                  \n",
    "    return output\n",
    "\n",
    "\n",
    "\"\"\"\n",
    "DON'T MODIFY ANYTHING IN THIS CELL THAT IS BELOW THIS LINE\n",
    "\"\"\"\n",
    "tests.test_con_pool(conv2d_maxpool)"
   ]
  },
  {
   "cell_type": "markdown",
   "metadata": {},
   "source": [
    "### Flatten Layer\n",
    "Implement the `flatten` function to change the dimension of `x_tensor` from a 4-D tensor to a 2-D tensor.  The output should be the shape (*Batch Size*, *Flattened Image Size*). Shortcut option: you can use classes from the [TensorFlow Layers](https://www.tensorflow.org/api_docs/python/tf/layers) or [TensorFlow Layers (contrib)](https://www.tensorflow.org/api_guides/python/contrib.layers) packages for this layer. For more of a challenge, only use other TensorFlow packages."
   ]
  },
  {
   "cell_type": "code",
   "execution_count": 17,
   "metadata": {},
   "outputs": [
    {
     "name": "stdout",
     "output_type": "stream",
     "text": [
      "Tests Passed\n"
     ]
    }
   ],
   "source": [
    "def flatten(x_tensor):\n",
    "    \"\"\"\n",
    "    Flatten x_tensor to (Batch Size, Flattened Image Size)\n",
    "    : x_tensor: A tensor of size (Batch Size, ...), where ... are the image dimensions.\n",
    "    : return: A tensor of size (Batch Size, Flattened Image Size).\n",
    "    \"\"\"\n",
    "    \n",
    "    return tf.contrib.layers.flatten(x_tensor)\n",
    "\n",
    "\n",
    "\"\"\"\n",
    "DON'T MODIFY ANYTHING IN THIS CELL THAT IS BELOW THIS LINE\n",
    "\"\"\"\n",
    "tests.test_flatten(flatten)"
   ]
  },
  {
   "cell_type": "markdown",
   "metadata": {},
   "source": [
    "### Fully-Connected Layer\n",
    "Implement the `fully_conn` function to apply a fully connected layer to `x_tensor` with the shape (*Batch Size*, *num_outputs*). Shortcut option: you can use classes from the [TensorFlow Layers](https://www.tensorflow.org/api_docs/python/tf/layers) or [TensorFlow Layers (contrib)](https://www.tensorflow.org/api_guides/python/contrib.layers) packages for this layer. For more of a challenge, only use other TensorFlow packages."
   ]
  },
  {
   "cell_type": "code",
   "execution_count": 18,
   "metadata": {},
   "outputs": [
    {
     "name": "stdout",
     "output_type": "stream",
     "text": [
      "Tests Passed\n"
     ]
    }
   ],
   "source": [
    "def fully_conn(x_tensor, num_outputs):\n",
    "    \"\"\"\n",
    "    Apply a fully connected layer to x_tensor using weight and bias\n",
    "    : x_tensor: A 2-D tensor where the first dimension is batch size.\n",
    "    : num_outputs: The number of output that the new tensor should be.\n",
    "    : return: A 2-D tensor where the second dimension is num_outputs.\n",
    "    \"\"\"\n",
    "    return tf.contrib.layers.fully_connected(x_tensor, num_outputs)\n",
    "\n",
    "\n",
    "\"\"\"\n",
    "DON'T MODIFY ANYTHING IN THIS CELL THAT IS BELOW THIS LINE\n",
    "\"\"\"\n",
    "tests.test_fully_conn(fully_conn)"
   ]
  },
  {
   "cell_type": "markdown",
   "metadata": {},
   "source": [
    "### Output Layer\n",
    "Implement the `output` function to apply a fully connected layer to `x_tensor` with the shape (*Batch Size*, *num_outputs*). Shortcut option: you can use classes from the [TensorFlow Layers](https://www.tensorflow.org/api_docs/python/tf/layers) or [TensorFlow Layers (contrib)](https://www.tensorflow.org/api_guides/python/contrib.layers) packages for this layer. For more of a challenge, only use other TensorFlow packages.\n",
    "\n",
    "**Note:** Activation, softmax, or cross entropy should **not** be applied to this."
   ]
  },
  {
   "cell_type": "code",
   "execution_count": 19,
   "metadata": {},
   "outputs": [
    {
     "name": "stdout",
     "output_type": "stream",
     "text": [
      "Tests Passed\n"
     ]
    }
   ],
   "source": [
    "def output(x_tensor, num_outputs):\n",
    "    \"\"\"\n",
    "    Apply a output layer to x_tensor using weight and bias\n",
    "    : x_tensor: A 2-D tensor where the first dimension is batch size.\n",
    "    : num_outputs: The number of output that the new tensor should be.\n",
    "    : return: A 2-D tensor where the second dimension is num_outputs.\n",
    "    \"\"\"\n",
    "    return tf.contrib.layers.fully_connected(x_tensor,num_outputs,activation_fn=None)\n",
    "\n",
    "\n",
    "\"\"\"\n",
    "DON'T MODIFY ANYTHING IN THIS CELL THAT IS BELOW THIS LINE\n",
    "\"\"\"\n",
    "tests.test_output(output)"
   ]
  },
  {
   "cell_type": "markdown",
   "metadata": {},
   "source": [
    "### Create Convolutional Model\n",
    "Implement the function `conv_net` to create a convolutional neural network model. The function takes in a batch of images, `x`, and outputs logits.  Use the layers you created above to create this model:\n",
    "\n",
    "* Apply 1, 2, or 3 Convolution and Max Pool layers\n",
    "* Apply a Flatten Layer\n",
    "* Apply 1, 2, or 3 Fully Connected Layers\n",
    "* Apply an Output Layer\n",
    "* Return the output\n",
    "* Apply [TensorFlow's Dropout](https://www.tensorflow.org/api_docs/python/tf/nn/dropout) to one or more layers in the model using `keep_prob`. "
   ]
  },
  {
   "cell_type": "code",
   "execution_count": 20,
   "metadata": {},
   "outputs": [
    {
     "name": "stdout",
     "output_type": "stream",
     "text": [
      "Neural Network Built!\n"
     ]
    }
   ],
   "source": [
    "def conv_net(x, keep_prob):\n",
    "    \"\"\"\n",
    "    Create a convolutional neural network model\n",
    "    : x: Placeholder tensor that holds image data.\n",
    "    : keep_prob: Placeholder tensor that hold dropout keep probability.\n",
    "    : return: Tensor that represents logits\n",
    "    \"\"\"\n",
    "    layer = conv2d_maxpool(x, 64, (4,4), (1,1), (2,2), (2,2))\n",
    "    tf.nn.dropout(layer, keep_prob=keep_prob)\n",
    "    layer = flatten(layer)\n",
    "    layer = fully_conn(layer,500)\n",
    "    layer = tf.nn.dropout(layer, keep_prob)\n",
    "    layer = fully_conn(layer,100)\n",
    "    layer = tf.nn.dropout(layer, keep_prob)\n",
    "    \n",
    "    return output(layer, 10)\n",
    "\n",
    "\"\"\"\n",
    "DON'T MODIFY ANYTHING IN THIS CELL THAT IS BELOW THIS LINE\n",
    "\"\"\"\n",
    "\n",
    "##############################\n",
    "## Build the Neural Network ##\n",
    "##############################\n",
    "\n",
    "# Remove previous weights, bias, inputs, etc..\n",
    "tf.reset_default_graph()\n",
    "\n",
    "# Inputs\n",
    "x = neural_net_image_input((32, 32, 3))\n",
    "y = neural_net_label_input(10)\n",
    "keep_prob = neural_net_keep_prob_input()\n",
    "\n",
    "# Model\n",
    "logits = conv_net(x, keep_prob)\n",
    "\n",
    "# Name logits Tensor, so that is can be loaded from disk after training\n",
    "logits = tf.identity(logits, name='logits')\n",
    "\n",
    "# Loss and Optimizer\n",
    "cost = tf.reduce_mean(tf.nn.softmax_cross_entropy_with_logits(logits=logits, labels=y))\n",
    "optimizer = tf.train.AdamOptimizer().minimize(cost)\n",
    "\n",
    "# Accuracy\n",
    "correct_pred = tf.equal(tf.argmax(logits, 1), tf.argmax(y, 1))\n",
    "accuracy = tf.reduce_mean(tf.cast(correct_pred, tf.float32), name='accuracy')\n",
    "\n",
    "tests.test_conv_net(conv_net)"
   ]
  },
  {
   "cell_type": "markdown",
   "metadata": {},
   "source": [
    "## Train the Neural Network\n",
    "### Single Optimization\n",
    "Implement the function `train_neural_network` to do a single optimization.  The optimization should use `optimizer` to optimize in `session` with a `feed_dict` of the following:\n",
    "* `x` for image input\n",
    "* `y` for labels\n",
    "* `keep_prob` for keep probability for dropout\n",
    "\n",
    "This function will be called for each batch, so `tf.global_variables_initializer()` has already been called.\n",
    "\n",
    "Note: Nothing needs to be returned. This function is only optimizing the neural network."
   ]
  },
  {
   "cell_type": "code",
   "execution_count": 21,
   "metadata": {},
   "outputs": [
    {
     "name": "stdout",
     "output_type": "stream",
     "text": [
      "Tests Passed\n"
     ]
    }
   ],
   "source": [
    "def train_neural_network(session, optimizer, keep_probability, feature_batch, label_batch):\n",
    "    \"\"\"\n",
    "    Optimize the session on a batch of images and labels\n",
    "    : session: Current TensorFlow session\n",
    "    : optimizer: TensorFlow optimizer function\n",
    "    : keep_probability: keep probability\n",
    "    : feature_batch: Batch of Numpy image data\n",
    "    : label_batch: Batch of Numpy label data\n",
    "    \"\"\"\n",
    "    return session.run(optimizer, feed_dict={x: feature_batch, y: label_batch, keep_prob: keep_probability})\n",
    "\n",
    "\n",
    "\"\"\"\n",
    "DON'T MODIFY ANYTHING IN THIS CELL THAT IS BELOW THIS LINE\n",
    "\"\"\"\n",
    "tests.test_train_nn(train_neural_network)"
   ]
  },
  {
   "cell_type": "markdown",
   "metadata": {},
   "source": [
    "### Show Stats\n",
    "Implement the function `print_stats` to print loss and validation accuracy.  Use the global variables `valid_features` and `valid_labels` to calculate validation accuracy.  Use a keep probability of `1.0` to calculate the loss and validation accuracy."
   ]
  },
  {
   "cell_type": "code",
   "execution_count": 22,
   "metadata": {
    "collapsed": true
   },
   "outputs": [],
   "source": [
    "def print_stats(session, feature_batch, label_batch, cost, accuracy):\n",
    "    \"\"\"\n",
    "    Print information about loss and validation accuracy\n",
    "    : session: Current TensorFlow session\n",
    "    : feature_batch: Batch of Numpy image data\n",
    "    : label_batch: Batch of Numpy label data\n",
    "    : cost: TensorFlow cost function\n",
    "    : accuracy: TensorFlow accuracy function\n",
    "    \"\"\"\n",
    "    cost = session.run(cost, feed_dict={x: feature_batch, y: label_batch, keep_prob: 1.0})\n",
    "    validation_accuracy = session.run(accuracy, feed_dict={x: valid_features, y: valid_labels, keep_prob: 1.0})\n",
    "    \n",
    "    print('Cost = {0} - Validation Accuracy = {1}'.format(cost, validation_accuracy))"
   ]
  },
  {
   "cell_type": "markdown",
   "metadata": {},
   "source": [
    "### Hyperparameters\n",
    "Tune the following parameters:\n",
    "* Set `epochs` to the number of iterations until the network stops learning or start overfitting\n",
    "* Set `batch_size` to the highest number that your machine has memory for.  Most people set them to common sizes of memory:\n",
    " * 64\n",
    " * 128\n",
    " * 256\n",
    " * ...\n",
    "* Set `keep_probability` to the probability of keeping a node using dropout"
   ]
  },
  {
   "cell_type": "code",
   "execution_count": 23,
   "metadata": {
    "collapsed": true
   },
   "outputs": [],
   "source": [
    "# Tune Parameters\n",
    "epochs = 30\n",
    "batch_size = 256\n",
    "keep_probability = 0.2"
   ]
  },
  {
   "cell_type": "markdown",
   "metadata": {},
   "source": [
    "### Train on a Single CIFAR-10 Batch\n",
    "Instead of training the neural network on all the CIFAR-10 batches of data, let's use a single batch. This should save time while you iterate on the model to get a better accuracy.  Once the final validation accuracy is 50% or greater, run the model on all the data in the next section."
   ]
  },
  {
   "cell_type": "code",
   "execution_count": 24,
   "metadata": {},
   "outputs": [
    {
     "name": "stdout",
     "output_type": "stream",
     "text": [
      "Checking the Training on a Single Batch...\n",
      "Epoch  1, CIFAR-10 Batch 1:  Cost = 2.16414737701416 - Validation Accuracy = 0.25\n",
      "Epoch  2, CIFAR-10 Batch 1:  Cost = 1.8940210342407227 - Validation Accuracy = 0.3508000075817108\n",
      "Epoch  3, CIFAR-10 Batch 1:  Cost = 1.681496024131775 - Validation Accuracy = 0.41040000319480896\n",
      "Epoch  4, CIFAR-10 Batch 1:  Cost = 1.5132169723510742 - Validation Accuracy = 0.4311999976634979\n",
      "Epoch  5, CIFAR-10 Batch 1:  Cost = 1.298821210861206 - Validation Accuracy = 0.4745999872684479\n",
      "Epoch  6, CIFAR-10 Batch 1:  Cost = 1.138862133026123 - Validation Accuracy = 0.48980000615119934\n",
      "Epoch  7, CIFAR-10 Batch 1:  Cost = 0.947613537311554 - Validation Accuracy = 0.5058000087738037\n",
      "Epoch  8, CIFAR-10 Batch 1:  Cost = 0.7903868556022644 - Validation Accuracy = 0.4934000074863434\n",
      "Epoch  9, CIFAR-10 Batch 1:  Cost = 0.6891396641731262 - Validation Accuracy = 0.5139999985694885\n",
      "Epoch 10, CIFAR-10 Batch 1:  Cost = 0.6063419580459595 - Validation Accuracy = 0.5170000195503235\n",
      "Epoch 11, CIFAR-10 Batch 1:  Cost = 0.5071946382522583 - Validation Accuracy = 0.531000018119812\n",
      "Epoch 12, CIFAR-10 Batch 1:  Cost = 0.43187323212623596 - Validation Accuracy = 0.5382000207901001\n",
      "Epoch 13, CIFAR-10 Batch 1:  Cost = 0.44248074293136597 - Validation Accuracy = 0.5206000208854675\n",
      "Epoch 14, CIFAR-10 Batch 1:  Cost = 0.3230704665184021 - Validation Accuracy = 0.5357999801635742\n",
      "Epoch 15, CIFAR-10 Batch 1:  Cost = 0.3137381076812744 - Validation Accuracy = 0.5443999767303467\n",
      "Epoch 16, CIFAR-10 Batch 1:  Cost = 0.26235276460647583 - Validation Accuracy = 0.5568000078201294\n",
      "Epoch 17, CIFAR-10 Batch 1:  Cost = 0.25538596510887146 - Validation Accuracy = 0.5522000193595886\n",
      "Epoch 18, CIFAR-10 Batch 1:  Cost = 0.2042815387248993 - Validation Accuracy = 0.5612000226974487\n",
      "Epoch 19, CIFAR-10 Batch 1:  Cost = 0.16776275634765625 - Validation Accuracy = 0.5698000192642212\n",
      "Epoch 20, CIFAR-10 Batch 1:  Cost = 0.13804998993873596 - Validation Accuracy = 0.5672000050544739\n",
      "Epoch 21, CIFAR-10 Batch 1:  Cost = 0.1258736550807953 - Validation Accuracy = 0.5623999834060669\n",
      "Epoch 22, CIFAR-10 Batch 1:  Cost = 0.0999484434723854 - Validation Accuracy = 0.5759999752044678\n",
      "Epoch 23, CIFAR-10 Batch 1:  Cost = 0.0985611081123352 - Validation Accuracy = 0.5577999949455261\n",
      "Epoch 24, CIFAR-10 Batch 1:  Cost = 0.07235060632228851 - Validation Accuracy = 0.5645999908447266\n",
      "Epoch 25, CIFAR-10 Batch 1:  Cost = 0.06670452654361725 - Validation Accuracy = 0.5699999928474426\n",
      "Epoch 26, CIFAR-10 Batch 1:  Cost = 0.050757162272930145 - Validation Accuracy = 0.5726000070571899\n",
      "Epoch 27, CIFAR-10 Batch 1:  Cost = 0.04688825458288193 - Validation Accuracy = 0.5774000287055969\n",
      "Epoch 28, CIFAR-10 Batch 1:  Cost = 0.0375283882021904 - Validation Accuracy = 0.576200008392334\n",
      "Epoch 29, CIFAR-10 Batch 1:  Cost = 0.029767751693725586 - Validation Accuracy = 0.5748000144958496\n",
      "Epoch 30, CIFAR-10 Batch 1:  Cost = 0.02467433549463749 - Validation Accuracy = 0.5781999826431274\n",
      "Epoch 31, CIFAR-10 Batch 1:  Cost = 0.02840382419526577 - Validation Accuracy = 0.5690000057220459\n",
      "Epoch 32, CIFAR-10 Batch 1:  Cost = 0.022544074803590775 - Validation Accuracy = 0.5727999806404114\n",
      "Epoch 33, CIFAR-10 Batch 1:  Cost = 0.018662763759493828 - Validation Accuracy = 0.5812000036239624\n",
      "Epoch 34, CIFAR-10 Batch 1:  Cost = 0.01663987524807453 - Validation Accuracy = 0.5720000267028809\n",
      "Epoch 35, CIFAR-10 Batch 1:  Cost = 0.015430241823196411 - Validation Accuracy = 0.5799999833106995\n",
      "Epoch 36, CIFAR-10 Batch 1:  Cost = 0.01781674288213253 - Validation Accuracy = 0.5582000017166138\n",
      "Epoch 37, CIFAR-10 Batch 1:  Cost = 0.014389214105904102 - Validation Accuracy = 0.5644000172615051\n",
      "Epoch 38, CIFAR-10 Batch 1:  Cost = 0.01763669028878212 - Validation Accuracy = 0.5478000044822693\n",
      "Epoch 39, CIFAR-10 Batch 1:  Cost = 0.017182091251015663 - Validation Accuracy = 0.5690000057220459\n",
      "Epoch 40, CIFAR-10 Batch 1:  Cost = 0.010711713694036007 - Validation Accuracy = 0.5735999941825867\n",
      "Epoch 41, CIFAR-10 Batch 1:  Cost = 0.008511194959282875 - Validation Accuracy = 0.5680000185966492\n",
      "Epoch 42, CIFAR-10 Batch 1:  Cost = 0.007639837451279163 - Validation Accuracy = 0.5788000226020813\n",
      "Epoch 43, CIFAR-10 Batch 1:  Cost = 0.004988029599189758 - Validation Accuracy = 0.5830000042915344\n",
      "Epoch 44, CIFAR-10 Batch 1:  Cost = 0.006371934898197651 - Validation Accuracy = 0.5720000267028809\n",
      "Epoch 45, CIFAR-10 Batch 1:  Cost = 0.0032971478067338467 - Validation Accuracy = 0.5785999894142151\n"
     ]
    }
   ],
   "source": [
    "\"\"\"\n",
    "DON'T MODIFY ANYTHING IN THIS CELL\n",
    "\"\"\"\n",
    "print('Checking the Training on a Single Batch...')\n",
    "with tf.Session() as sess:\n",
    "    # Initializing the variables\n",
    "    sess.run(tf.global_variables_initializer())\n",
    "    \n",
    "    # Training cycle\n",
    "    for epoch in range(epochs):\n",
    "        batch_i = 1\n",
    "        for batch_features, batch_labels in helper.load_preprocess_training_batch(batch_i, batch_size):\n",
    "            train_neural_network(sess, optimizer, keep_probability, batch_features, batch_labels)\n",
    "        print('Epoch {:>2}, CIFAR-10 Batch {}:  '.format(epoch + 1, batch_i), end='')\n",
    "        print_stats(sess, batch_features, batch_labels, cost, accuracy)"
   ]
  },
  {
   "cell_type": "markdown",
   "metadata": {},
   "source": [
    "### Fully Train the Model\n",
    "Now that you got a good accuracy with a single CIFAR-10 batch, try it with all five batches."
   ]
  },
  {
   "cell_type": "code",
   "execution_count": 25,
   "metadata": {},
   "outputs": [
    {
     "name": "stdout",
     "output_type": "stream",
     "text": [
      "Training...\n",
      "Epoch  1, CIFAR-10 Batch 1:  Cost = 2.2605414390563965 - Validation Accuracy = 0.19280000030994415\n",
      "Epoch  1, CIFAR-10 Batch 2:  Cost = 2.1475136280059814 - Validation Accuracy = 0.25060001015663147\n",
      "Epoch  1, CIFAR-10 Batch 3:  Cost = 1.8077189922332764 - Validation Accuracy = 0.32440000772476196\n",
      "Epoch  1, CIFAR-10 Batch 4:  Cost = 1.6963717937469482 - Validation Accuracy = 0.3952000141143799\n",
      "Epoch  1, CIFAR-10 Batch 5:  Cost = 1.6931915283203125 - Validation Accuracy = 0.4235999882221222\n",
      "Epoch  2, CIFAR-10 Batch 1:  Cost = 1.7495181560516357 - Validation Accuracy = 0.43479999899864197\n",
      "Epoch  2, CIFAR-10 Batch 2:  Cost = 1.4192330837249756 - Validation Accuracy = 0.48100000619888306\n",
      "Epoch  2, CIFAR-10 Batch 3:  Cost = 1.1179167032241821 - Validation Accuracy = 0.5013999938964844\n",
      "Epoch  2, CIFAR-10 Batch 4:  Cost = 1.3937195539474487 - Validation Accuracy = 0.49939998984336853\n",
      "Epoch  2, CIFAR-10 Batch 5:  Cost = 1.2254297733306885 - Validation Accuracy = 0.526199996471405\n",
      "Epoch  3, CIFAR-10 Batch 1:  Cost = 1.2952632904052734 - Validation Accuracy = 0.5317999720573425\n",
      "Epoch  3, CIFAR-10 Batch 2:  Cost = 1.096123456954956 - Validation Accuracy = 0.5425999760627747\n",
      "Epoch  3, CIFAR-10 Batch 3:  Cost = 0.8654752969741821 - Validation Accuracy = 0.5392000079154968\n",
      "Epoch  3, CIFAR-10 Batch 4:  Cost = 1.1733185052871704 - Validation Accuracy = 0.5636000037193298\n",
      "Epoch  3, CIFAR-10 Batch 5:  Cost = 1.0230268239974976 - Validation Accuracy = 0.5735999941825867\n",
      "Epoch  4, CIFAR-10 Batch 1:  Cost = 1.0851919651031494 - Validation Accuracy = 0.5655999779701233\n",
      "Epoch  4, CIFAR-10 Batch 2:  Cost = 0.9020158648490906 - Validation Accuracy = 0.5723999738693237\n",
      "Epoch  4, CIFAR-10 Batch 3:  Cost = 0.7271938323974609 - Validation Accuracy = 0.579200029373169\n",
      "Epoch  4, CIFAR-10 Batch 4:  Cost = 0.960856556892395 - Validation Accuracy = 0.5884000062942505\n",
      "Epoch  4, CIFAR-10 Batch 5:  Cost = 0.8820732235908508 - Validation Accuracy = 0.5803999900817871\n",
      "Epoch  5, CIFAR-10 Batch 1:  Cost = 0.8762866854667664 - Validation Accuracy = 0.5842000246047974\n",
      "Epoch  5, CIFAR-10 Batch 2:  Cost = 0.760455310344696 - Validation Accuracy = 0.5935999751091003\n",
      "Epoch  5, CIFAR-10 Batch 3:  Cost = 0.6250582933425903 - Validation Accuracy = 0.6047999858856201\n",
      "Epoch  5, CIFAR-10 Batch 4:  Cost = 0.8561670184135437 - Validation Accuracy = 0.597000002861023\n",
      "Epoch  5, CIFAR-10 Batch 5:  Cost = 0.7090937495231628 - Validation Accuracy = 0.6082000136375427\n",
      "Epoch  6, CIFAR-10 Batch 1:  Cost = 0.7439608573913574 - Validation Accuracy = 0.6039999723434448\n",
      "Epoch  6, CIFAR-10 Batch 2:  Cost = 0.6259727478027344 - Validation Accuracy = 0.6173999905586243\n",
      "Epoch  6, CIFAR-10 Batch 3:  Cost = 0.5377374887466431 - Validation Accuracy = 0.6155999898910522\n",
      "Epoch  6, CIFAR-10 Batch 4:  Cost = 0.746024489402771 - Validation Accuracy = 0.6015999913215637\n",
      "Epoch  6, CIFAR-10 Batch 5:  Cost = 0.6308175921440125 - Validation Accuracy = 0.6028000116348267\n",
      "Epoch  7, CIFAR-10 Batch 1:  Cost = 0.6646164655685425 - Validation Accuracy = 0.6140000224113464\n",
      "Epoch  7, CIFAR-10 Batch 2:  Cost = 0.5505286455154419 - Validation Accuracy = 0.6305999755859375\n",
      "Epoch  7, CIFAR-10 Batch 3:  Cost = 0.44617071747779846 - Validation Accuracy = 0.6244000196456909\n",
      "Epoch  7, CIFAR-10 Batch 4:  Cost = 0.5736202001571655 - Validation Accuracy = 0.6263999938964844\n",
      "Epoch  7, CIFAR-10 Batch 5:  Cost = 0.5057045817375183 - Validation Accuracy = 0.6371999979019165\n",
      "Epoch  8, CIFAR-10 Batch 1:  Cost = 0.5854173898696899 - Validation Accuracy = 0.6186000108718872\n",
      "Epoch  8, CIFAR-10 Batch 2:  Cost = 0.4820641875267029 - Validation Accuracy = 0.6380000114440918\n",
      "Epoch  8, CIFAR-10 Batch 3:  Cost = 0.3564958870410919 - Validation Accuracy = 0.6370000243186951\n",
      "Epoch  8, CIFAR-10 Batch 4:  Cost = 0.4937286972999573 - Validation Accuracy = 0.6438000202178955\n",
      "Epoch  8, CIFAR-10 Batch 5:  Cost = 0.4202558398246765 - Validation Accuracy = 0.6412000060081482\n",
      "Epoch  9, CIFAR-10 Batch 1:  Cost = 0.506378173828125 - Validation Accuracy = 0.6385999917984009\n",
      "Epoch  9, CIFAR-10 Batch 2:  Cost = 0.43249207735061646 - Validation Accuracy = 0.6395999789237976\n",
      "Epoch  9, CIFAR-10 Batch 3:  Cost = 0.30798372626304626 - Validation Accuracy = 0.6488000154495239\n",
      "Epoch  9, CIFAR-10 Batch 4:  Cost = 0.4206331670284271 - Validation Accuracy = 0.6439999938011169\n",
      "Epoch  9, CIFAR-10 Batch 5:  Cost = 0.3164382874965668 - Validation Accuracy = 0.6499999761581421\n",
      "Epoch 10, CIFAR-10 Batch 1:  Cost = 0.4648445248603821 - Validation Accuracy = 0.6399999856948853\n",
      "Epoch 10, CIFAR-10 Batch 2:  Cost = 0.3489021360874176 - Validation Accuracy = 0.6344000101089478\n",
      "Epoch 10, CIFAR-10 Batch 3:  Cost = 0.27785149216651917 - Validation Accuracy = 0.6543999910354614\n",
      "Epoch 10, CIFAR-10 Batch 4:  Cost = 0.332945317029953 - Validation Accuracy = 0.6456000208854675\n",
      "Epoch 10, CIFAR-10 Batch 5:  Cost = 0.26688188314437866 - Validation Accuracy = 0.651199996471405\n",
      "Epoch 11, CIFAR-10 Batch 1:  Cost = 0.39253145456314087 - Validation Accuracy = 0.6248000264167786\n",
      "Epoch 11, CIFAR-10 Batch 2:  Cost = 0.32386165857315063 - Validation Accuracy = 0.6510000228881836\n",
      "Epoch 11, CIFAR-10 Batch 3:  Cost = 0.2451314926147461 - Validation Accuracy = 0.6462000012397766\n",
      "Epoch 11, CIFAR-10 Batch 4:  Cost = 0.2984560430049896 - Validation Accuracy = 0.65420001745224\n",
      "Epoch 11, CIFAR-10 Batch 5:  Cost = 0.25908559560775757 - Validation Accuracy = 0.6452000141143799\n",
      "Epoch 12, CIFAR-10 Batch 1:  Cost = 0.35336488485336304 - Validation Accuracy = 0.6489999890327454\n",
      "Epoch 12, CIFAR-10 Batch 2:  Cost = 0.3104858994483948 - Validation Accuracy = 0.6571999788284302\n",
      "Epoch 12, CIFAR-10 Batch 3:  Cost = 0.22241270542144775 - Validation Accuracy = 0.6413999795913696\n",
      "Epoch 12, CIFAR-10 Batch 4:  Cost = 0.2555047869682312 - Validation Accuracy = 0.6547999978065491\n",
      "Epoch 12, CIFAR-10 Batch 5:  Cost = 0.24074812233448029 - Validation Accuracy = 0.6484000086784363\n",
      "Epoch 13, CIFAR-10 Batch 1:  Cost = 0.3488250970840454 - Validation Accuracy = 0.6402000188827515\n",
      "Epoch 13, CIFAR-10 Batch 2:  Cost = 0.28176364302635193 - Validation Accuracy = 0.6552000045776367\n",
      "Epoch 13, CIFAR-10 Batch 3:  Cost = 0.20043596625328064 - Validation Accuracy = 0.6571999788284302\n",
      "Epoch 13, CIFAR-10 Batch 4:  Cost = 0.22108793258666992 - Validation Accuracy = 0.6564000248908997\n",
      "Epoch 13, CIFAR-10 Batch 5:  Cost = 0.2031387984752655 - Validation Accuracy = 0.6535999774932861\n",
      "Epoch 14, CIFAR-10 Batch 1:  Cost = 0.3185890316963196 - Validation Accuracy = 0.6456000208854675\n",
      "Epoch 14, CIFAR-10 Batch 2:  Cost = 0.28036561608314514 - Validation Accuracy = 0.6233999729156494\n",
      "Epoch 14, CIFAR-10 Batch 3:  Cost = 0.15452155470848083 - Validation Accuracy = 0.6589999794960022\n",
      "Epoch 14, CIFAR-10 Batch 4:  Cost = 0.25737953186035156 - Validation Accuracy = 0.6449999809265137\n",
      "Epoch 14, CIFAR-10 Batch 5:  Cost = 0.1760326325893402 - Validation Accuracy = 0.6514000296592712\n",
      "Epoch 15, CIFAR-10 Batch 1:  Cost = 0.24929098784923553 - Validation Accuracy = 0.6574000120162964\n",
      "Epoch 15, CIFAR-10 Batch 2:  Cost = 0.2204391062259674 - Validation Accuracy = 0.6448000073432922\n",
      "Epoch 15, CIFAR-10 Batch 3:  Cost = 0.14308452606201172 - Validation Accuracy = 0.6556000113487244\n",
      "Epoch 15, CIFAR-10 Batch 4:  Cost = 0.19045691192150116 - Validation Accuracy = 0.6557999849319458\n",
      "Epoch 15, CIFAR-10 Batch 5:  Cost = 0.15271449089050293 - Validation Accuracy = 0.6525999903678894\n",
      "Epoch 16, CIFAR-10 Batch 1:  Cost = 0.23809337615966797 - Validation Accuracy = 0.6496000289916992\n",
      "Epoch 16, CIFAR-10 Batch 2:  Cost = 0.21791057288646698 - Validation Accuracy = 0.6480000019073486\n",
      "Epoch 16, CIFAR-10 Batch 3:  Cost = 0.144918754696846 - Validation Accuracy = 0.6534000039100647\n",
      "Epoch 16, CIFAR-10 Batch 4:  Cost = 0.16769516468048096 - Validation Accuracy = 0.6510000228881836\n",
      "Epoch 16, CIFAR-10 Batch 5:  Cost = 0.14592188596725464 - Validation Accuracy = 0.6565999984741211\n",
      "Epoch 17, CIFAR-10 Batch 1:  Cost = 0.21621617674827576 - Validation Accuracy = 0.6603999733924866\n",
      "Epoch 17, CIFAR-10 Batch 2:  Cost = 0.1939488649368286 - Validation Accuracy = 0.6496000289916992\n",
      "Epoch 17, CIFAR-10 Batch 3:  Cost = 0.10431797802448273 - Validation Accuracy = 0.6531999707221985\n"
     ]
    },
    {
     "name": "stdout",
     "output_type": "stream",
     "text": [
      "Epoch 17, CIFAR-10 Batch 4:  Cost = 0.14202816784381866 - Validation Accuracy = 0.6570000052452087\n",
      "Epoch 17, CIFAR-10 Batch 5:  Cost = 0.11349757760763168 - Validation Accuracy = 0.6606000065803528\n",
      "Epoch 18, CIFAR-10 Batch 1:  Cost = 0.19824263453483582 - Validation Accuracy = 0.6538000106811523\n",
      "Epoch 18, CIFAR-10 Batch 2:  Cost = 0.1529425084590912 - Validation Accuracy = 0.6442000269889832\n",
      "Epoch 18, CIFAR-10 Batch 3:  Cost = 0.1180701032280922 - Validation Accuracy = 0.6561999917030334\n",
      "Epoch 18, CIFAR-10 Batch 4:  Cost = 0.14646196365356445 - Validation Accuracy = 0.6570000052452087\n",
      "Epoch 18, CIFAR-10 Batch 5:  Cost = 0.1014026403427124 - Validation Accuracy = 0.6547999978065491\n",
      "Epoch 19, CIFAR-10 Batch 1:  Cost = 0.17502932250499725 - Validation Accuracy = 0.656000018119812\n",
      "Epoch 19, CIFAR-10 Batch 2:  Cost = 0.1590966135263443 - Validation Accuracy = 0.6359999775886536\n",
      "Epoch 19, CIFAR-10 Batch 3:  Cost = 0.10677538812160492 - Validation Accuracy = 0.6525999903678894\n",
      "Epoch 19, CIFAR-10 Batch 4:  Cost = 0.14236237108707428 - Validation Accuracy = 0.6571999788284302\n",
      "Epoch 19, CIFAR-10 Batch 5:  Cost = 0.08521012216806412 - Validation Accuracy = 0.6628000140190125\n",
      "Epoch 20, CIFAR-10 Batch 1:  Cost = 0.17611686885356903 - Validation Accuracy = 0.6535999774932861\n",
      "Epoch 20, CIFAR-10 Batch 2:  Cost = 0.12814469635486603 - Validation Accuracy = 0.6528000235557556\n",
      "Epoch 20, CIFAR-10 Batch 3:  Cost = 0.08220384269952774 - Validation Accuracy = 0.6620000004768372\n",
      "Epoch 20, CIFAR-10 Batch 4:  Cost = 0.11599647998809814 - Validation Accuracy = 0.6535999774932861\n",
      "Epoch 20, CIFAR-10 Batch 5:  Cost = 0.06748452037572861 - Validation Accuracy = 0.6657999753952026\n",
      "Epoch 21, CIFAR-10 Batch 1:  Cost = 0.16247698664665222 - Validation Accuracy = 0.6470000147819519\n",
      "Epoch 21, CIFAR-10 Batch 2:  Cost = 0.13159297406673431 - Validation Accuracy = 0.6507999897003174\n",
      "Epoch 21, CIFAR-10 Batch 3:  Cost = 0.09255148470401764 - Validation Accuracy = 0.6549999713897705\n",
      "Epoch 21, CIFAR-10 Batch 4:  Cost = 0.09770667552947998 - Validation Accuracy = 0.6556000113487244\n",
      "Epoch 21, CIFAR-10 Batch 5:  Cost = 0.0771593526005745 - Validation Accuracy = 0.659600019454956\n",
      "Epoch 22, CIFAR-10 Batch 1:  Cost = 0.15000976622104645 - Validation Accuracy = 0.6574000120162964\n",
      "Epoch 22, CIFAR-10 Batch 2:  Cost = 0.12765201926231384 - Validation Accuracy = 0.6471999883651733\n",
      "Epoch 22, CIFAR-10 Batch 3:  Cost = 0.08877047151327133 - Validation Accuracy = 0.644599974155426\n",
      "Epoch 22, CIFAR-10 Batch 4:  Cost = 0.10094030201435089 - Validation Accuracy = 0.6474000215530396\n",
      "Epoch 22, CIFAR-10 Batch 5:  Cost = 0.06032878905534744 - Validation Accuracy = 0.6600000262260437\n",
      "Epoch 23, CIFAR-10 Batch 1:  Cost = 0.13136443495750427 - Validation Accuracy = 0.6565999984741211\n",
      "Epoch 23, CIFAR-10 Batch 2:  Cost = 0.09811551123857498 - Validation Accuracy = 0.6531999707221985\n",
      "Epoch 23, CIFAR-10 Batch 3:  Cost = 0.06011408567428589 - Validation Accuracy = 0.657800018787384\n",
      "Epoch 23, CIFAR-10 Batch 4:  Cost = 0.07557167857885361 - Validation Accuracy = 0.6589999794960022\n",
      "Epoch 23, CIFAR-10 Batch 5:  Cost = 0.05089223384857178 - Validation Accuracy = 0.6603999733924866\n",
      "Epoch 24, CIFAR-10 Batch 1:  Cost = 0.1323740929365158 - Validation Accuracy = 0.6574000120162964\n",
      "Epoch 24, CIFAR-10 Batch 2:  Cost = 0.11043977737426758 - Validation Accuracy = 0.6471999883651733\n",
      "Epoch 24, CIFAR-10 Batch 3:  Cost = 0.06431283801794052 - Validation Accuracy = 0.6498000025749207\n",
      "Epoch 24, CIFAR-10 Batch 4:  Cost = 0.10588351637125015 - Validation Accuracy = 0.6588000059127808\n",
      "Epoch 24, CIFAR-10 Batch 5:  Cost = 0.05052600055932999 - Validation Accuracy = 0.6639999747276306\n",
      "Epoch 25, CIFAR-10 Batch 1:  Cost = 0.12433139234781265 - Validation Accuracy = 0.6474000215530396\n",
      "Epoch 25, CIFAR-10 Batch 2:  Cost = 0.10582749545574188 - Validation Accuracy = 0.6348000168800354\n",
      "Epoch 25, CIFAR-10 Batch 3:  Cost = 0.04188547283411026 - Validation Accuracy = 0.657800018787384\n",
      "Epoch 25, CIFAR-10 Batch 4:  Cost = 0.07145370543003082 - Validation Accuracy = 0.6521999835968018\n",
      "Epoch 25, CIFAR-10 Batch 5:  Cost = 0.03801461309194565 - Validation Accuracy = 0.6615999937057495\n",
      "Epoch 26, CIFAR-10 Batch 1:  Cost = 0.10223356634378433 - Validation Accuracy = 0.6557999849319458\n",
      "Epoch 26, CIFAR-10 Batch 2:  Cost = 0.06866196542978287 - Validation Accuracy = 0.6539999842643738\n",
      "Epoch 26, CIFAR-10 Batch 3:  Cost = 0.04422770068049431 - Validation Accuracy = 0.6601999998092651\n",
      "Epoch 26, CIFAR-10 Batch 4:  Cost = 0.07857521623373032 - Validation Accuracy = 0.6474000215530396\n",
      "Epoch 26, CIFAR-10 Batch 5:  Cost = 0.03609032556414604 - Validation Accuracy = 0.6678000092506409\n",
      "Epoch 27, CIFAR-10 Batch 1:  Cost = 0.1076008528470993 - Validation Accuracy = 0.656000018119812\n",
      "Epoch 27, CIFAR-10 Batch 2:  Cost = 0.0646914690732956 - Validation Accuracy = 0.6557999849319458\n",
      "Epoch 27, CIFAR-10 Batch 3:  Cost = 0.046375539153814316 - Validation Accuracy = 0.6625999808311462\n",
      "Epoch 27, CIFAR-10 Batch 4:  Cost = 0.05574081093072891 - Validation Accuracy = 0.6547999978065491\n",
      "Epoch 27, CIFAR-10 Batch 5:  Cost = 0.043373823165893555 - Validation Accuracy = 0.6582000255584717\n",
      "Epoch 28, CIFAR-10 Batch 1:  Cost = 0.10968353599309921 - Validation Accuracy = 0.652400016784668\n",
      "Epoch 28, CIFAR-10 Batch 2:  Cost = 0.054655611515045166 - Validation Accuracy = 0.65420001745224\n",
      "Epoch 28, CIFAR-10 Batch 3:  Cost = 0.04240107536315918 - Validation Accuracy = 0.6552000045776367\n",
      "Epoch 28, CIFAR-10 Batch 4:  Cost = 0.05592159181833267 - Validation Accuracy = 0.6547999978065491\n",
      "Epoch 28, CIFAR-10 Batch 5:  Cost = 0.0298327449709177 - Validation Accuracy = 0.6665999889373779\n",
      "Epoch 29, CIFAR-10 Batch 1:  Cost = 0.09529675543308258 - Validation Accuracy = 0.6470000147819519\n",
      "Epoch 29, CIFAR-10 Batch 2:  Cost = 0.05250384658575058 - Validation Accuracy = 0.6525999903678894\n",
      "Epoch 29, CIFAR-10 Batch 3:  Cost = 0.03343453258275986 - Validation Accuracy = 0.6646000146865845\n",
      "Epoch 29, CIFAR-10 Batch 4:  Cost = 0.05068690702319145 - Validation Accuracy = 0.6370000243186951\n",
      "Epoch 29, CIFAR-10 Batch 5:  Cost = 0.023433169350028038 - Validation Accuracy = 0.6668000221252441\n",
      "Epoch 30, CIFAR-10 Batch 1:  Cost = 0.09233330190181732 - Validation Accuracy = 0.6366000175476074\n",
      "Epoch 30, CIFAR-10 Batch 2:  Cost = 0.04414263367652893 - Validation Accuracy = 0.6564000248908997\n",
      "Epoch 30, CIFAR-10 Batch 3:  Cost = 0.03921670466661453 - Validation Accuracy = 0.6611999869346619\n",
      "Epoch 30, CIFAR-10 Batch 4:  Cost = 0.04781503602862358 - Validation Accuracy = 0.6502000093460083\n",
      "Epoch 30, CIFAR-10 Batch 5:  Cost = 0.021779660135507584 - Validation Accuracy = 0.6624000072479248\n",
      "Epoch 31, CIFAR-10 Batch 1:  Cost = 0.08214940875768661 - Validation Accuracy = 0.6503999829292297\n",
      "Epoch 31, CIFAR-10 Batch 2:  Cost = 0.03702319413423538 - Validation Accuracy = 0.6552000045776367\n",
      "Epoch 31, CIFAR-10 Batch 3:  Cost = 0.036373578011989594 - Validation Accuracy = 0.6528000235557556\n",
      "Epoch 31, CIFAR-10 Batch 4:  Cost = 0.04688644036650658 - Validation Accuracy = 0.6520000100135803\n",
      "Epoch 31, CIFAR-10 Batch 5:  Cost = 0.02183711901307106 - Validation Accuracy = 0.6686000227928162\n",
      "Epoch 32, CIFAR-10 Batch 1:  Cost = 0.07604728639125824 - Validation Accuracy = 0.6448000073432922\n",
      "Epoch 32, CIFAR-10 Batch 2:  Cost = 0.06106606870889664 - Validation Accuracy = 0.6557999849319458\n",
      "Epoch 32, CIFAR-10 Batch 3:  Cost = 0.01858336292207241 - Validation Accuracy = 0.6614000201225281\n",
      "Epoch 32, CIFAR-10 Batch 4:  Cost = 0.05206318572163582 - Validation Accuracy = 0.6381999850273132\n",
      "Epoch 32, CIFAR-10 Batch 5:  Cost = 0.02082943357527256 - Validation Accuracy = 0.6582000255584717\n",
      "Epoch 33, CIFAR-10 Batch 1:  Cost = 0.07983861863613129 - Validation Accuracy = 0.6420000195503235\n",
      "Epoch 33, CIFAR-10 Batch 2:  Cost = 0.03378061205148697 - Validation Accuracy = 0.652999997138977\n",
      "Epoch 33, CIFAR-10 Batch 3:  Cost = 0.02430199645459652 - Validation Accuracy = 0.652999997138977\n",
      "Epoch 33, CIFAR-10 Batch 4:  Cost = 0.03586409240961075 - Validation Accuracy = 0.656000018119812\n",
      "Epoch 33, CIFAR-10 Batch 5:  Cost = 0.019396129995584488 - Validation Accuracy = 0.6636000275611877\n",
      "Epoch 34, CIFAR-10 Batch 1:  Cost = 0.06649640947580338 - Validation Accuracy = 0.644599974155426\n"
     ]
    },
    {
     "name": "stdout",
     "output_type": "stream",
     "text": [
      "Epoch 34, CIFAR-10 Batch 2:  Cost = 0.032617077231407166 - Validation Accuracy = 0.6521999835968018\n",
      "Epoch 34, CIFAR-10 Batch 3:  Cost = 0.016821136698126793 - Validation Accuracy = 0.659600019454956\n",
      "Epoch 34, CIFAR-10 Batch 4:  Cost = 0.036038391292095184 - Validation Accuracy = 0.6498000025749207\n",
      "Epoch 34, CIFAR-10 Batch 5:  Cost = 0.016853542998433113 - Validation Accuracy = 0.6535999774932861\n",
      "Epoch 35, CIFAR-10 Batch 1:  Cost = 0.08177345991134644 - Validation Accuracy = 0.6355999708175659\n",
      "Epoch 35, CIFAR-10 Batch 2:  Cost = 0.044636163860559464 - Validation Accuracy = 0.6466000080108643\n",
      "Epoch 35, CIFAR-10 Batch 3:  Cost = 0.014999544247984886 - Validation Accuracy = 0.6651999950408936\n",
      "Epoch 35, CIFAR-10 Batch 4:  Cost = 0.027384478598833084 - Validation Accuracy = 0.6488000154495239\n",
      "Epoch 35, CIFAR-10 Batch 5:  Cost = 0.01362293679267168 - Validation Accuracy = 0.6674000024795532\n",
      "Epoch 36, CIFAR-10 Batch 1:  Cost = 0.06017468124628067 - Validation Accuracy = 0.644599974155426\n",
      "Epoch 36, CIFAR-10 Batch 2:  Cost = 0.02590545453131199 - Validation Accuracy = 0.6535999774932861\n",
      "Epoch 36, CIFAR-10 Batch 3:  Cost = 0.021237259730696678 - Validation Accuracy = 0.6439999938011169\n",
      "Epoch 36, CIFAR-10 Batch 4:  Cost = 0.022475287318229675 - Validation Accuracy = 0.6507999897003174\n",
      "Epoch 36, CIFAR-10 Batch 5:  Cost = 0.010625320486724377 - Validation Accuracy = 0.6600000262260437\n",
      "Epoch 37, CIFAR-10 Batch 1:  Cost = 0.05308295413851738 - Validation Accuracy = 0.6488000154495239\n",
      "Epoch 37, CIFAR-10 Batch 2:  Cost = 0.014278128743171692 - Validation Accuracy = 0.6460000276565552\n",
      "Epoch 37, CIFAR-10 Batch 3:  Cost = 0.018503449857234955 - Validation Accuracy = 0.6481999754905701\n",
      "Epoch 37, CIFAR-10 Batch 4:  Cost = 0.02681714855134487 - Validation Accuracy = 0.6416000127792358\n",
      "Epoch 37, CIFAR-10 Batch 5:  Cost = 0.012859526090323925 - Validation Accuracy = 0.6593999862670898\n",
      "Epoch 38, CIFAR-10 Batch 1:  Cost = 0.09965584427118301 - Validation Accuracy = 0.6420000195503235\n",
      "Epoch 38, CIFAR-10 Batch 2:  Cost = 0.015907224267721176 - Validation Accuracy = 0.6552000045776367\n",
      "Epoch 38, CIFAR-10 Batch 3:  Cost = 0.017250066623091698 - Validation Accuracy = 0.6585999727249146\n",
      "Epoch 38, CIFAR-10 Batch 4:  Cost = 0.02921261265873909 - Validation Accuracy = 0.646399974822998\n",
      "Epoch 38, CIFAR-10 Batch 5:  Cost = 0.013163799419999123 - Validation Accuracy = 0.6614000201225281\n",
      "Epoch 39, CIFAR-10 Batch 1:  Cost = 0.0733921080827713 - Validation Accuracy = 0.651199996471405\n",
      "Epoch 39, CIFAR-10 Batch 2:  Cost = 0.011347953230142593 - Validation Accuracy = 0.6448000073432922\n",
      "Epoch 39, CIFAR-10 Batch 3:  Cost = 0.010981716215610504 - Validation Accuracy = 0.6664000153541565\n",
      "Epoch 39, CIFAR-10 Batch 4:  Cost = 0.030712280422449112 - Validation Accuracy = 0.642799973487854\n",
      "Epoch 39, CIFAR-10 Batch 5:  Cost = 0.011362983845174313 - Validation Accuracy = 0.6615999937057495\n",
      "Epoch 40, CIFAR-10 Batch 1:  Cost = 0.0551372654736042 - Validation Accuracy = 0.652999997138977\n",
      "Epoch 40, CIFAR-10 Batch 2:  Cost = 0.015397325158119202 - Validation Accuracy = 0.6448000073432922\n",
      "Epoch 40, CIFAR-10 Batch 3:  Cost = 0.008325661532580853 - Validation Accuracy = 0.6642000079154968\n",
      "Epoch 40, CIFAR-10 Batch 4:  Cost = 0.02789127267897129 - Validation Accuracy = 0.6553999781608582\n",
      "Epoch 40, CIFAR-10 Batch 5:  Cost = 0.014063728973269463 - Validation Accuracy = 0.6543999910354614\n",
      "Epoch 41, CIFAR-10 Batch 1:  Cost = 0.04589875787496567 - Validation Accuracy = 0.6488000154495239\n",
      "Epoch 41, CIFAR-10 Batch 2:  Cost = 0.01130562461912632 - Validation Accuracy = 0.6406000256538391\n",
      "Epoch 41, CIFAR-10 Batch 3:  Cost = 0.00783101748675108 - Validation Accuracy = 0.6624000072479248\n",
      "Epoch 41, CIFAR-10 Batch 4:  Cost = 0.024909110739827156 - Validation Accuracy = 0.6456000208854675\n",
      "Epoch 41, CIFAR-10 Batch 5:  Cost = 0.008617771789431572 - Validation Accuracy = 0.6543999910354614\n",
      "Epoch 42, CIFAR-10 Batch 1:  Cost = 0.04333405941724777 - Validation Accuracy = 0.6552000045776367\n",
      "Epoch 42, CIFAR-10 Batch 2:  Cost = 0.01005079410970211 - Validation Accuracy = 0.6611999869346619\n",
      "Epoch 42, CIFAR-10 Batch 3:  Cost = 0.013418334536254406 - Validation Accuracy = 0.652999997138977\n",
      "Epoch 42, CIFAR-10 Batch 4:  Cost = 0.02745491825044155 - Validation Accuracy = 0.6480000019073486\n",
      "Epoch 42, CIFAR-10 Batch 5:  Cost = 0.008663802407681942 - Validation Accuracy = 0.6606000065803528\n",
      "Epoch 43, CIFAR-10 Batch 1:  Cost = 0.027963798493146896 - Validation Accuracy = 0.6416000127792358\n",
      "Epoch 43, CIFAR-10 Batch 2:  Cost = 0.00818650983273983 - Validation Accuracy = 0.6583999991416931\n",
      "Epoch 43, CIFAR-10 Batch 3:  Cost = 0.008377913385629654 - Validation Accuracy = 0.6539999842643738\n",
      "Epoch 43, CIFAR-10 Batch 4:  Cost = 0.033842265605926514 - Validation Accuracy = 0.6531999707221985\n",
      "Epoch 43, CIFAR-10 Batch 5:  Cost = 0.009502503089606762 - Validation Accuracy = 0.6571999788284302\n",
      "Epoch 44, CIFAR-10 Batch 1:  Cost = 0.032839804887771606 - Validation Accuracy = 0.6521999835968018\n",
      "Epoch 44, CIFAR-10 Batch 2:  Cost = 0.010795021429657936 - Validation Accuracy = 0.6489999890327454\n",
      "Epoch 44, CIFAR-10 Batch 3:  Cost = 0.005964134819805622 - Validation Accuracy = 0.6589999794960022\n",
      "Epoch 44, CIFAR-10 Batch 4:  Cost = 0.017301201820373535 - Validation Accuracy = 0.6618000268936157\n",
      "Epoch 44, CIFAR-10 Batch 5:  Cost = 0.006753410212695599 - Validation Accuracy = 0.6430000066757202\n",
      "Epoch 45, CIFAR-10 Batch 1:  Cost = 0.06595344841480255 - Validation Accuracy = 0.6399999856948853\n",
      "Epoch 45, CIFAR-10 Batch 2:  Cost = 0.011550212278962135 - Validation Accuracy = 0.6406000256538391\n",
      "Epoch 45, CIFAR-10 Batch 3:  Cost = 0.009649193845689297 - Validation Accuracy = 0.6606000065803528\n",
      "Epoch 45, CIFAR-10 Batch 4:  Cost = 0.025533324107527733 - Validation Accuracy = 0.6489999890327454\n",
      "Epoch 45, CIFAR-10 Batch 5:  Cost = 0.006856111343950033 - Validation Accuracy = 0.6489999890327454\n"
     ]
    }
   ],
   "source": [
    "\"\"\"\n",
    "DON'T MODIFY ANYTHING IN THIS CELL\n",
    "\"\"\"\n",
    "save_model_path = './image_classification'\n",
    "\n",
    "print('Training...')\n",
    "with tf.Session() as sess:\n",
    "    # Initializing the variables\n",
    "    sess.run(tf.global_variables_initializer())\n",
    "    \n",
    "    # Training cycle\n",
    "    for epoch in range(epochs):\n",
    "        # Loop over all batches\n",
    "        n_batches = 5\n",
    "        for batch_i in range(1, n_batches + 1):\n",
    "            for batch_features, batch_labels in helper.load_preprocess_training_batch(batch_i, batch_size):\n",
    "                train_neural_network(sess, optimizer, keep_probability, batch_features, batch_labels)\n",
    "            print('Epoch {:>2}, CIFAR-10 Batch {}:  '.format(epoch + 1, batch_i), end='')\n",
    "            print_stats(sess, batch_features, batch_labels, cost, accuracy)\n",
    "            \n",
    "    # Save Model\n",
    "    saver = tf.train.Saver()\n",
    "    save_path = saver.save(sess, save_model_path)"
   ]
  },
  {
   "cell_type": "markdown",
   "metadata": {},
   "source": [
    "# Checkpoint\n",
    "The model has been saved to disk.\n",
    "## Test Model\n",
    "Test your model against the test dataset.  This will be your final accuracy. You should have an accuracy greater than 50%. If you don't, keep tweaking the model architecture and parameters."
   ]
  },
  {
   "cell_type": "code",
   "execution_count": 26,
   "metadata": {},
   "outputs": [
    {
     "name": "stdout",
     "output_type": "stream",
     "text": [
      "Testing Accuracy: 0.652734375\n",
      "\n"
     ]
    },
    {
     "data": {
      "image/png": "[encoded data removed]",
      "text/plain": [
       "<matplotlib.figure.Figure at 0x124b842e8>"
      ]
     },
     "metadata": {
      "image/png": {
       "height": 319,
       "width": 355
      }
     },
     "output_type": "display_data"
    }
   ],
   "source": [
    "\"\"\"\n",
    "DON'T MODIFY ANYTHING IN THIS CELL\n",
    "\"\"\"\n",
    "%matplotlib inline\n",
    "%config InlineBackend.figure_format = 'retina'\n",
    "\n",
    "import tensorflow as tf\n",
    "import pickle\n",
    "import helper\n",
    "import random\n",
    "\n",
    "# Set batch size if not already set\n",
    "try:\n",
    "    if batch_size:\n",
    "        pass\n",
    "except NameError:\n",
    "    batch_size = 64\n",
    "\n",
    "save_model_path = './image_classification'\n",
    "n_samples = 4\n",
    "top_n_predictions = 3\n",
    "\n",
    "def test_model():\n",
    "    \"\"\"\n",
    "    Test the saved model against the test dataset\n",
    "    \"\"\"\n",
    "\n",
    "    test_features, test_labels = pickle.load(open('preprocess_test.p', mode='rb'))\n",
    "    loaded_graph = tf.Graph()\n",
    "\n",
    "    with tf.Session(graph=loaded_graph) as sess:\n",
    "        # Load model\n",
    "        loader = tf.train.import_meta_graph(save_model_path + '.meta')\n",
    "        loader.restore(sess, save_model_path)\n",
    "\n",
    "        # Get Tensors from loaded model\n",
    "        loaded_x = loaded_graph.get_tensor_by_name('x:0')\n",
    "        loaded_y = loaded_graph.get_tensor_by_name('y:0')\n",
    "        loaded_keep_prob = loaded_graph.get_tensor_by_name('keep_prob:0')\n",
    "        loaded_logits = loaded_graph.get_tensor_by_name('logits:0')\n",
    "        loaded_acc = loaded_graph.get_tensor_by_name('accuracy:0')\n",
    "        \n",
    "        # Get accuracy in batches for memory limitations\n",
    "        test_batch_acc_total = 0\n",
    "        test_batch_count = 0\n",
    "        \n",
    "        for test_feature_batch, test_label_batch in helper.batch_features_labels(test_features, test_labels, batch_size):\n",
    "            test_batch_acc_total += sess.run(\n",
    "                loaded_acc,\n",
    "                feed_dict={loaded_x: test_feature_batch, loaded_y: test_label_batch, loaded_keep_prob: 1.0})\n",
    "            test_batch_count += 1\n",
    "\n",
    "        print('Testing Accuracy: {}\\n'.format(test_batch_acc_total/test_batch_count))\n",
    "\n",
    "        # Print Random Samples\n",
    "        random_test_features, random_test_labels = tuple(zip(*random.sample(list(zip(test_features, test_labels)), n_samples)))\n",
    "        random_test_predictions = sess.run(\n",
    "            tf.nn.top_k(tf.nn.softmax(loaded_logits), top_n_predictions),\n",
    "            feed_dict={loaded_x: random_test_features, loaded_y: random_test_labels, loaded_keep_prob: 1.0})\n",
    "        helper.display_image_predictions(random_test_features, random_test_labels, random_test_predictions)\n",
    "\n",
    "\n",
    "test_model()"
   ]
  },
  {
   "cell_type": "markdown",
   "metadata": {},
   "source": [
    "## Why 50-80% Accuracy?\n",
    "You might be wondering why you can't get an accuracy any higher. First things first, 50% isn't bad for a simple CNN.  Pure guessing would get you 10% accuracy. However, you might notice people are getting scores [well above 80%](http://rodrigob.github.io/are_we_there_yet/build/classification_datasets_results.html#43494641522d3130).  That's because we haven't taught you all there is to know about neural networks. We still need to cover a few more techniques.\n",
    "## Submitting This Project\n",
    "When submitting this project, make sure to run all the cells before saving the notebook.  Save the notebook file as \"dlnd_image_classification.ipynb\" and save it as a HTML file under \"File\" -> \"Download as\".  Include the \"helper.py\" and \"problem_unittests.py\" files in your submission."
   ]
  }
 ],
 "metadata": {
  "kernelspec": {
   "display_name": "Python 3",
   "language": "python",
   "name": "python3"
  },
  "language_info": {
   "codemirror_mode": {
    "name": "ipython",
    "version": 3
   },
   "file_extension": ".py",
   "mimetype": "text/x-python",
   "name": "python",
   "nbconvert_exporter": "python",
   "pygments_lexer": "ipython3",
   "version": "3.6.1"
  }
 },
 "nbformat": 4,
 "nbformat_minor": 1
}
